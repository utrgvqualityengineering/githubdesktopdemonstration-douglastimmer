{
 "cells": [
  {
   "cell_type": "markdown",
   "id": "7ad9756e",
   "metadata": {},
   "source": [
    "# MANE 3351\n",
    "## Fall 2023\n",
    "## Lab Six\n",
    "### Douglas Harvey Timmer"
   ]
  },
  {
   "cell_type": "code",
   "execution_count": 1,
   "id": "1821927f",
   "metadata": {},
   "outputs": [
    {
     "name": "stdout",
     "output_type": "stream",
     "text": [
      "0.7768698398515702\n"
     ]
    }
   ],
   "source": [
    "import math\n",
    "# Step 2 - define function below this line\n",
    "def g(x):\n",
    "    return 1.0 - math.exp(-x)\n",
    "\n",
    "F= g(1.5)\n",
    "\n",
    "print(F)\n"
   ]
  },
  {
   "cell_type": "code",
   "execution_count": null,
   "id": "5534a709-439f-43a6-b7db-e93d1319241b",
   "metadata": {},
   "outputs": [],
   "source": []
  }
 ],
 "metadata": {
  "kernelspec": {
   "display_name": "Python 3 (ipykernel)",
   "language": "python",
   "name": "python3"
  },
  "language_info": {
   "codemirror_mode": {
    "name": "ipython",
    "version": 3
   },
   "file_extension": ".py",
   "mimetype": "text/x-python",
   "name": "python",
   "nbconvert_exporter": "python",
   "pygments_lexer": "ipython3",
   "version": "3.12.5"
  }
 },
 "nbformat": 4,
 "nbformat_minor": 5
}
